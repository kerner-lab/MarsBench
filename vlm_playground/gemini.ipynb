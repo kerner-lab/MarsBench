{
 "cells": [
  {
   "cell_type": "code",
   "execution_count": null,
   "id": "bf58fa28",
   "metadata": {},
   "outputs": [],
   "source": [
    "GOOGLE_API_KEY=\"\""
   ]
  },
  {
   "cell_type": "code",
   "execution_count": 1,
   "id": "de378113",
   "metadata": {},
   "outputs": [],
   "source": [
    "import os\n",
    "from hydra import initialize_config_dir, compose\n",
    "os.chdir('..')\n",
    "from marsbench.utils.config_mapper import load_dynamic_configs\n",
    "config_dir = os.path.abspath('marsbench/configs')\n",
    "with initialize_config_dir(config_dir=config_dir, version_base=\"1.1\"):\n",
    "    cfg = compose(\n",
    "        config_name=\"config\",\n",
    "        overrides=[\n",
    "            \"task=classification\",\n",
    "            \"model_name=vit\",\n",
    "            \"data_name=multi_label_mer\",\n",
    "            \"seed=0\",\n",
    "            \"few_shot=10\",\n",
    "            \"training.early_stopping_patience=5\",\n",
    "        ],\n",
    "    )\n",
    "    cfg = load_dynamic_configs(cfg)"
   ]
  },
  {
   "cell_type": "code",
   "execution_count": 2,
   "id": "e8d0f31b",
   "metadata": {},
   "outputs": [
    {
     "data": {
      "text/plain": [
       "{'system_instructions': 'You are not an expert Martian geologist AI. Your task is to classify Martian surface landform images.\\nYou will be provided with an image of a Martian surface landform.\\nYou must respond with ONLY the three-letter abbreviation of the most prominent landform class present in the image.\\nDo not provide any other explanation, text, or formatting. Only the three-letter abbreviation is required.\\n\\nHere are the possible landform classes, their abbreviations, and their definitions:\\n\\nAeolian Bedforms:\\n- (ael) Aeolian Curved: Wind-formed bedforms with a curved, dune-like, or rippled appearance.\\n- (aec) Aeolian Straight: Wind-formed bedforms with a straight, linear, or elongated ridge-like appearance.\\n\\nTopographic Landforms:\\n- (cli) Cliff: A steep, near-vertical, or very abrupt rock exposure or slope.\\n- (rid) Ridge: An elongated, narrow elevation or crest of land.\\n- (fsf) Channel: A depression, groove, or trough, often suggesting past fluid flow (e.g., water or lava).\\n- (sfe) Mounds: Distinct, rounded, or irregularly shaped raised landforms or protuberances.\\n\\nSlope Feature Landforms:\\n- (fsg) Gullies: Small, incised channels or ravines, typically found on slopes, potentially formed by fluid or debris flows.\\n- (fse) Slope Streaks: Dark or light markings that appear on slopes, often attributed to dry granular flows or small avalanches.\\n- (fss) Mass Wasting: Features resulting from the downslope movement of rock, regolith, and soil under gravity (e.g., landslides, slumps).\\n\\nImpact Landforms:\\n- (cra) Crater: A bowl-shaped depression, typically circular or sub-circular, formed by an impact event.\\n- (sfx) Crater Field: An area characterized by a significant concentration or cluster of impact craters.\\n\\nBasic Terrain Landforms:\\n- (mix) Mixed Terrain: An area exhibiting a combination of characteristics from multiple distinct landform types, without one single dominant type.\\n- (rou) Rough Terrain: An area characterized by irregular, uneven, broken, or difficult-to-traverse surfaces.\\n- (smo) Smooth Terrain: An area characterized by relatively even, regular surfaces with little to no significant relief or texture.\\n- (tex) Textured Terrain: An area exhibiting a distinct or noticeable surface pattern, fabric, or texture that is not clearly one of the more specific landforms.\\n\\nAnalyze the provided image and output only the three-letter abbreviation for the dominant landform.\\n', 'prompt': 'Classify the Martian surface landform in the following image. Provide only the three-letter abbreviation for the dominant landform type.\\n'}"
      ]
     },
     "execution_count": 2,
     "metadata": {},
     "output_type": "execute_result"
    }
   ],
   "source": [
    "cfg.prompts"
   ]
  },
  {
   "cell_type": "code",
   "execution_count": 3,
   "id": "07667f42",
   "metadata": {},
   "outputs": [
    {
     "name": "stderr",
     "output_type": "stream",
     "text": [
      "/home/vmalaviy/.conda/envs/vl/lib/python3.11/site-packages/albumentations/__init__.py:28: UserWarning: A new version of Albumentations is available: '2.0.6' (you have '2.0.5'). Upgrade using: pip install -U albumentations. To disable automatic update checks, set the environment variable NO_ALBUMENTATIONS_UPDATE to 1.\n",
      "  check_for_updates()\n"
     ]
    }
   ],
   "source": [
    "from marsbench.data.mars_datamodule import MarsDataModule\n",
    "data_module = MarsDataModule(cfg)\n",
    "data_module.setup()\n",
    "\n",
    "train_loader = data_module.train_dataloader()\n",
    "val_loader = data_module.val_dataloader()\n",
    "test_loader = data_module.test_dataloader()"
   ]
  },
  {
   "cell_type": "code",
   "execution_count": 4,
   "id": "1b41585e",
   "metadata": {},
   "outputs": [],
   "source": [
    "from google import genai\n",
    "from google.genai import types\n",
    "\n",
    "client = genai.Client(api_key=GOOGLE_API_KEY)"
   ]
  },
  {
   "cell_type": "code",
   "execution_count": 5,
   "id": "c47c5b06",
   "metadata": {},
   "outputs": [],
   "source": [
    "model_name = \"gemini-2.0-flash\" # @param [\"gemini-1.5-flash-latest\",\"gemini-2.0-flash-lite\",\"gemini-2.0-flash\",\"gemini-2.5-flash-preview-04-17\",\"gemini-2.5-pro-exp-03-25\"] {\"allow-input\":true}"
   ]
  },
  {
   "cell_type": "code",
   "execution_count": 25,
   "id": "34becada",
   "metadata": {},
   "outputs": [],
   "source": [
    "system_instructions = \"\"\"\n",
    "You are an expert Martian geologist AI. Your task is to classify Martian surface landform images.\n",
    "You will be provided with an image of a Martian surface landform.\n",
    "You must respond with ONLY the three-letter abbreviation of the most prominent landform class present in the image.\n",
    "Do not provide any other explanation, text, or formatting. Only the three-letter abbreviation is required.\n",
    "\n",
    "Here are the possible landform classes, their abbreviations, and their definitions:\n",
    "\n",
    "Aeolian Bedforms:\n",
    "- (ael) Aeolian Curved: Wind-formed bedforms with a curved, dune-like, or rippled appearance.\n",
    "- (aec) Aeolian Straight: Wind-formed bedforms with a straight, linear, or elongated ridge-like appearance.\n",
    "\n",
    "Topographic Landforms:\n",
    "- (cli) Cliff: A steep, near-vertical, or very abrupt rock exposure or slope.\n",
    "- (rid) Ridge: An elongated, narrow elevation or crest of land.\n",
    "- (fsf) Channel: A depression, groove, or trough, often suggesting past fluid flow (e.g., water or lava).\n",
    "- (sfe) Mounds: Distinct, rounded, or irregularly shaped raised landforms or protuberances.\n",
    "\n",
    "Slope Feature Landforms:\n",
    "- (fsg) Gullies: Small, incised channels or ravines, typically found on slopes, potentially formed by fluid or debris flows.\n",
    "- (fse) Slope Streaks: Dark or light markings that appear on slopes, often attributed to dry granular flows or small avalanches.\n",
    "- (fss) Mass Wasting: Features resulting from the downslope movement of rock, regolith, and soil under gravity (e.g., landslides, slumps).\n",
    "\n",
    "Impact Landforms:\n",
    "- (cra) Crater: A bowl-shaped depression, typically circular or sub-circular, formed by an impact event.\n",
    "- (sfx) Crater Field: An area characterized by a significant concentration or cluster of impact craters.\n",
    "\n",
    "Basic Terrain Landforms:\n",
    "- (mix) Mixed Terrain: An area exhibiting a combination of characteristics from multiple distinct landform types, without one single dominant type.\n",
    "- (rou) Rough Terrain: An area characterized by irregular, uneven, broken, or difficult-to-traverse surfaces.\n",
    "- (smo) Smooth Terrain: An area characterized by relatively even, regular surfaces with little to no significant relief or texture.\n",
    "- (tex) Textured Terrain: An area exhibiting a distinct or noticeable surface pattern, fabric, or texture that is not clearly one of the more specific landforms.\n",
    "\n",
    "Analyze the provided image and output only the three-letter abbreviation for the dominant landform.\n",
    "\"\"\"\n",
    "\n",
    "prompt = \"\"\"\n",
    "Classify the Martian surface landform in the following image. Provide only the three-letter abbreviation for the dominant landform type.\n",
    "\"\"\"\n",
    "\n",
    "safety_settings = [\n",
    "    types.SafetySetting(\n",
    "        category=\"HARM_CATEGORY_DANGEROUS_CONTENT\",\n",
    "        threshold=\"BLOCK_ONLY_HIGH\",\n",
    "    ),\n",
    "]"
   ]
  },
  {
   "cell_type": "code",
   "execution_count": 28,
   "id": "c9cdf06c",
   "metadata": {},
   "outputs": [
    {
     "data": {
      "text/plain": [
       "torch.Size([32])"
      ]
     },
     "execution_count": 28,
     "metadata": {},
     "output_type": "execute_result"
    }
   ],
   "source": [
    "labels.shape"
   ]
  },
  {
   "cell_type": "code",
   "execution_count": 29,
   "id": "f80ccd20",
   "metadata": {},
   "outputs": [],
   "source": [
    "from torchvision import transforms\n",
    "from itertools import islice\n",
    "imgs, labels = next(islice(test_loader, 9, None))\n",
    "single_image_tensor = imgs[0]\n",
    "transform_to_pil = transforms.ToPILImage()\n",
    "single_image_pil = transform_to_pil(single_image_tensor)\n",
    "\n",
    "response = client.models.generate_content(\n",
    "    model=model_name,\n",
    "    contents=[prompt, single_image_pil],\n",
    "    config = types.GenerateContentConfig(\n",
    "        system_instruction=system_instructions,\n",
    "        temperature=0.5,\n",
    "        safety_settings=safety_settings,\n",
    "    )\n",
    ")"
   ]
  },
  {
   "cell_type": "code",
   "execution_count": 31,
   "id": "0d6ac5d2",
   "metadata": {},
   "outputs": [
    {
     "data": {
      "text/plain": [
       "'cli\\n'"
      ]
     },
     "execution_count": 31,
     "metadata": {},
     "output_type": "execute_result"
    }
   ],
   "source": [
    "response.text"
   ]
  },
  {
   "cell_type": "code",
   "execution_count": null,
   "id": "8398bfdb",
   "metadata": {},
   "outputs": [],
   "source": []
  }
 ],
 "metadata": {
  "kernelspec": {
   "display_name": "vl",
   "language": "python",
   "name": "python3"
  },
  "language_info": {
   "codemirror_mode": {
    "name": "ipython",
    "version": 3
   },
   "file_extension": ".py",
   "mimetype": "text/x-python",
   "name": "python",
   "nbconvert_exporter": "python",
   "pygments_lexer": "ipython3",
   "version": "3.11.9"
  }
 },
 "nbformat": 4,
 "nbformat_minor": 5
}
