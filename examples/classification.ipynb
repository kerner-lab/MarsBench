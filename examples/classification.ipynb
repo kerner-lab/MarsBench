{
 "cells": [
  {
   "cell_type": "markdown",
   "metadata": {},
   "source": [
    "# Load Config"
   ]
  },
  {
   "cell_type": "code",
   "execution_count": 1,
   "metadata": {},
   "outputs": [],
   "source": [
    "import os\n",
    "from hydra import initialize_config_dir, compose\n",
    "\n",
    "os.chdir('..')\n",
    "from marsbench.utils.config_mapper import load_dynamic_configs\n",
    "config_dir = os.path.abspath('marsbench/configs')\n",
    "with initialize_config_dir(config_dir=config_dir, version_base=\"1.1\"):\n",
    "    cfg = compose(\n",
    "        config_name=\"config\",\n",
    "        overrides=[\n",
    "            \"task=classification\",\n",
    "            \"model_name=vit\",\n",
    "            \"data_name=hirise_net\",\n",
    "            \"seed=0\",\n",
    "            \"training.early_stopping_patience=5\",\n",
    "        ],\n",
    "    )\n",
    "    cfg = load_dynamic_configs(cfg)"
   ]
  },
  {
   "cell_type": "code",
   "execution_count": 3,
   "metadata": {},
   "outputs": [
    {
     "data": {
      "text/html": [
       "<div>\n",
       "<style scoped>\n",
       "    .dataframe tbody tr th:only-of-type {\n",
       "        vertical-align: middle;\n",
       "    }\n",
       "\n",
       "    .dataframe tbody tr th {\n",
       "        vertical-align: top;\n",
       "    }\n",
       "\n",
       "    .dataframe thead th {\n",
       "        text-align: right;\n",
       "    }\n",
       "</style>\n",
       "<table border=\"1\" class=\"dataframe\">\n",
       "  <thead>\n",
       "    <tr style=\"text-align: right;\">\n",
       "      <th></th>\n",
       "      <th>image_path</th>\n",
       "      <th>label</th>\n",
       "      <th>split</th>\n",
       "    </tr>\n",
       "  </thead>\n",
       "  <tbody>\n",
       "    <tr>\n",
       "      <th>0</th>\n",
       "      <td>ESP_013049_0950_RED-0067.jpg</td>\n",
       "      <td>7</td>\n",
       "      <td>train</td>\n",
       "    </tr>\n",
       "    <tr>\n",
       "      <th>1</th>\n",
       "      <td>ESP_013049_0950_RED-0067-fv.jpg</td>\n",
       "      <td>7</td>\n",
       "      <td>train</td>\n",
       "    </tr>\n",
       "    <tr>\n",
       "      <th>2</th>\n",
       "      <td>ESP_013049_0950_RED-0067-brt.jpg</td>\n",
       "      <td>7</td>\n",
       "      <td>train</td>\n",
       "    </tr>\n",
       "    <tr>\n",
       "      <th>3</th>\n",
       "      <td>ESP_013049_0950_RED-0067-r90.jpg</td>\n",
       "      <td>7</td>\n",
       "      <td>train</td>\n",
       "    </tr>\n",
       "    <tr>\n",
       "      <th>4</th>\n",
       "      <td>ESP_013049_0950_RED-0067-r180.jpg</td>\n",
       "      <td>7</td>\n",
       "      <td>train</td>\n",
       "    </tr>\n",
       "    <tr>\n",
       "      <th>...</th>\n",
       "      <td>...</td>\n",
       "      <td>...</td>\n",
       "      <td>...</td>\n",
       "    </tr>\n",
       "    <tr>\n",
       "      <th>67805</th>\n",
       "      <td>ESP_018707_2205_RED-0041.jpg</td>\n",
       "      <td>0</td>\n",
       "      <td>test</td>\n",
       "    </tr>\n",
       "    <tr>\n",
       "      <th>67806</th>\n",
       "      <td>ESP_018707_2205_RED-0062.jpg</td>\n",
       "      <td>0</td>\n",
       "      <td>test</td>\n",
       "    </tr>\n",
       "    <tr>\n",
       "      <th>67807</th>\n",
       "      <td>ESP_018707_2205_RED-0105.jpg</td>\n",
       "      <td>0</td>\n",
       "      <td>test</td>\n",
       "    </tr>\n",
       "    <tr>\n",
       "      <th>67808</th>\n",
       "      <td>ESP_018707_2205_RED-0058.jpg</td>\n",
       "      <td>0</td>\n",
       "      <td>test</td>\n",
       "    </tr>\n",
       "    <tr>\n",
       "      <th>67809</th>\n",
       "      <td>ESP_018707_2205_RED-0051.jpg</td>\n",
       "      <td>0</td>\n",
       "      <td>test</td>\n",
       "    </tr>\n",
       "  </tbody>\n",
       "</table>\n",
       "<p>67810 rows × 3 columns</p>\n",
       "</div>"
      ],
      "text/plain": [
       "                              image_path  label  split\n",
       "0           ESP_013049_0950_RED-0067.jpg      7  train\n",
       "1        ESP_013049_0950_RED-0067-fv.jpg      7  train\n",
       "2       ESP_013049_0950_RED-0067-brt.jpg      7  train\n",
       "3       ESP_013049_0950_RED-0067-r90.jpg      7  train\n",
       "4      ESP_013049_0950_RED-0067-r180.jpg      7  train\n",
       "...                                  ...    ...    ...\n",
       "67805       ESP_018707_2205_RED-0041.jpg      0   test\n",
       "67806       ESP_018707_2205_RED-0062.jpg      0   test\n",
       "67807       ESP_018707_2205_RED-0105.jpg      0   test\n",
       "67808       ESP_018707_2205_RED-0058.jpg      0   test\n",
       "67809       ESP_018707_2205_RED-0051.jpg      0   test\n",
       "\n",
       "[67810 rows x 3 columns]"
      ]
     },
     "execution_count": 3,
     "metadata": {},
     "output_type": "execute_result"
    }
   ],
   "source": [
    "import pandas as pd\n",
    "pd.read_csv(cfg.data.annot_csv)"
   ]
  },
  {
   "cell_type": "code",
   "execution_count": 2,
   "metadata": {},
   "outputs": [
    {
     "name": "stdout",
     "output_type": "stream",
     "text": [
      "task: classification\n",
      "mode: train\n",
      "data_name: hirise_net\n",
      "model_name: vit\n",
      "dataset_path: /data/hkerner/MarsBench/Datasets\n",
      "output_path: outputs\n",
      "seed: 0\n",
      "test_after_training: false\n",
      "prediction_output_path: null\n",
      "checkpoint_path: null\n",
      "data:\n",
      "  split:\n",
      "    train: 0.6\n",
      "    val: 0.2\n",
      "    test: 0.2\n",
      "  valid_image_extensions:\n",
      "  - jpg\n",
      "  - JPG\n",
      "  - jpeg\n",
      "  - JPEG\n",
      "  - png\n",
      "  - PNG\n",
      "  - tif\n",
      "  - TIF\n",
      "  name: HiRISENet\n",
      "  status: test\n",
      "  data_dir: ${oc.decode:${oc.select:dataset_path, .}}/Mars_Image_Cont_Class_Landmark/hirise-map-proj-v3_2/map-proj-v3_2/\n",
      "  annot_csv: ${oc.decode:${oc.select:dataset_path, .}}/Mars_Image_Cont_Class_Landmark/hirise-map-proj-v3_2/annotation.csv\n",
      "  num_classes: 8\n",
      "  image_type: rgb\n",
      "  txt_file: ${oc.decode:${oc.select:dataset_path, .}}/Mars_Image_Cont_Class_Landmark/hirise-map-proj-v3_2/labels-map-proj_v3_2_train_val_test.txt\n",
      "transforms:\n",
      "  image_size:\n",
      "  - 224\n",
      "  - 224\n",
      "  rgb:\n",
      "    mean:\n",
      "    - 0.485\n",
      "    - 0.456\n",
      "    - 0.406\n",
      "    std:\n",
      "    - 0.229\n",
      "    - 0.224\n",
      "    - 0.225\n",
      "  grayscale:\n",
      "    mean:\n",
      "    - 0.5\n",
      "    std:\n",
      "    - 0.5\n",
      "model:\n",
      "  name: VisionTransformer\n",
      "  class_path: marsbench.models.classification.ViT\n",
      "  status: ready\n",
      "  pretrained: true\n",
      "  freeze_layers: true\n",
      "  input_size:\n",
      "  - 3\n",
      "  - 224\n",
      "  - 224\n",
      "training:\n",
      "  batch_size: 32\n",
      "  num_workers: 0\n",
      "  optimizer:\n",
      "    name: Adam\n",
      "    lr: 0.001\n",
      "    weight_decay: 0.0\n",
      "  criterion:\n",
      "    name: cross_entropy\n",
      "  early_stopping_patience: 50\n",
      "  trainer:\n",
      "    max_epochs: 10\n",
      "    accelerator: auto\n",
      "    devices: auto\n",
      "    strategy: auto\n",
      "    sync_batchnorm: true\n",
      "    precision: 16-mixed\n",
      "    enable_checkpointing: true\n",
      "    enable_progress_bar: true\n",
      "    log_every_n_steps: 10\n",
      "    num_nodes: 1\n",
      "    accumulate_grad_batches: 1\n",
      "test:\n",
      "  data:\n",
      "    status:\n",
      "    - ready\n",
      "    - test\n",
      "    subset_size: 100\n",
      "  model:\n",
      "    status:\n",
      "    - ready\n",
      "    - test\n",
      "    with_tuple_output:\n",
      "    - InceptionV3\n",
      "logger:\n",
      "  wandb:\n",
      "    enabled: true\n",
      "    project: marsbench\n",
      "    name: null\n",
      "    entity: null\n",
      "    tags: []\n",
      "    notes: null\n",
      "    save_code: true\n",
      "    mode: online\n",
      "  mlflow:\n",
      "    enabled: false\n",
      "    experiment_name: marsbench\n",
      "    tracking_uri: null\n",
      "    run_name: null\n",
      "    tags: {}\n",
      "    log_model: true\n",
      "    save_dir: mlruns\n",
      "  tensorboard:\n",
      "    enabled: true\n",
      "    save_dir: logs\n",
      "    name: tensorboard_logs\n",
      "    version: null\n",
      "    flush_secs: 30\n",
      "  csv:\n",
      "    enabled: true\n",
      "    save_dir: logs\n",
      "    name: csv_logs\n",
      "    version: null\n",
      "callbacks:\n",
      "  early_stopping:\n",
      "    _target_: pytorch_lightning.callbacks.early_stopping.EarlyStopping\n",
      "    monitor: val/loss\n",
      "    patience: 50\n",
      "    mode: min\n",
      "    enabled: true\n",
      "  best_checkpoint:\n",
      "    _target_: pytorch_lightning.callbacks.model_checkpoint.ModelCheckpoint\n",
      "    monitor: val/loss\n",
      "    save_top_k: 1\n",
      "    mode: min\n",
      "    filename: best-{epoch:02d}-{val_loss:.4f}\n",
      "    save_last: false\n",
      "    enabled: true\n",
      "    dirpath: checkpoints\n",
      "  last_checkpoint:\n",
      "    _target_: pytorch_lightning.callbacks.model_checkpoint.ModelCheckpoint\n",
      "    save_top_k: 0\n",
      "    save_last: true\n",
      "    filename: last\n",
      "    enabled: true\n",
      "    dirpath: checkpoints\n",
      "\n"
     ]
    }
   ],
   "source": [
    "from omegaconf import OmegaConf\n",
    "print(OmegaConf.to_yaml(cfg))"
   ]
  },
  {
   "cell_type": "markdown",
   "metadata": {},
   "source": [
    "# Prepare Data"
   ]
  },
  {
   "cell_type": "code",
   "execution_count": 3,
   "metadata": {},
   "outputs": [],
   "source": [
    "import sys\n",
    "sys.path.append('..')\n",
    "from marsbench.data import *\n",
    "from marsbench.utils.transforms import get_transforms"
   ]
  },
  {
   "cell_type": "code",
   "execution_count": 4,
   "metadata": {},
   "outputs": [],
   "source": [
    "# Just for explaination purpose, doesn't need to be run\n",
    "train_transform, val_transform = get_transforms(cfg)\n",
    "train_dataset, val_dataset, test_dataset = get_dataset(cfg, [train_transform, val_transform])\n",
    "# Just for explaination purpose, doesn't need to be run\n",
    "train_transform, val_transform = get_transforms(cfg)\n",
    "train_dataset, val_dataset, test_dataset = get_dataset(cfg, [train_transform, val_transform])"
   ]
  },
  {
   "cell_type": "code",
   "execution_count": 5,
   "metadata": {},
   "outputs": [
    {
     "name": "stderr",
     "output_type": "stream",
     "text": [
      "/home/vmalaviy/.conda/envs/vl/lib/python3.11/site-packages/torch/utils/data/dataloader.py:557: UserWarning: This DataLoader will create 24 worker processes in total. Our suggested max number of worker in current system is 1, which is smaller than what this DataLoader is going to create. Please be aware that excessive worker creation might get DataLoader running slow or even freeze, lower the worker number to avoid potential slowness/freeze if necessary.\n",
      "  warnings.warn(_create_warning_msg(\n"
     ]
    }
   ],
   "source": [
    "from marsbench.data.mars_datamodule import MarsDataModule\n",
    "data_module = MarsDataModule(cfg)\n",
    "data_module.setup()\n",
    "\n",
    "train_loader = data_module.train_dataloader()\n",
    "val_loader = data_module.val_dataloader()\n",
    "test_loader = data_module.test_dataloader()"
   ]
  },
  {
   "cell_type": "markdown",
   "metadata": {},
   "source": [
    "# Load Model"
   ]
  },
  {
   "cell_type": "markdown",
   "metadata": {},
   "source": [
    "### Config"
   ]
  },
  {
   "cell_type": "code",
   "execution_count": 6,
   "metadata": {},
   "outputs": [],
   "source": [
    "import os\n",
    "from datetime import datetime\n",
    "from pytorch_lightning import Trainer\n",
    "from marsbench.models import import_model_class\n",
    "from pytorch_lightning.loggers import WandbLogger\n",
    "from pytorch_lightning.callbacks import ModelCheckpoint, EarlyStopping\n",
    "\n",
    "timestamp = datetime.now().strftime(r\"%m%d_%H%M\")\n",
    "job_name = 'trial'\n",
    "\n",
    "output_path = f'outputs/{cfg.task}/{job_name}/{timestamp}'\n",
    "\n",
    "os.makedirs(output_path, exist_ok=True)\n",
    "os.makedirs(f'{output_path}/checkpoints', exist_ok=True)\n",
    "os.makedirs(f'{output_path}/wandb', exist_ok=True)"
   ]
  },
  {
   "cell_type": "markdown",
   "metadata": {},
   "source": [
    "### Callbacks"
   ]
  },
  {
   "cell_type": "code",
   "execution_count": 7,
   "metadata": {},
   "outputs": [],
   "source": [
    "wandb_logger = WandbLogger(\n",
    "    project=\"MarsBench\",\n",
    "    name=job_name,\n",
    "    log_model=True,\n",
    "    save_dir=output_path,\n",
    "    dir=f'{output_path}/wandb'\n",
    ")\n",
    "\n",
    "callbacks = [\n",
    "    ModelCheckpoint(\n",
    "        dirpath=f'{output_path}/checkpoints',\n",
    "        filename=\"{epoch}\",\n",
    "        save_top_k=1,\n",
    "        monitor=\"val/acc\",\n",
    "        mode=\"max\",\n",
    "        verbose=True\n",
    "    ),\n",
    "    EarlyStopping(\n",
    "        monitor=\"val/acc\",\n",
    "        mode=\"max\",\n",
    "        patience=cfg.training.early_stopping_patience,\n",
    "    ),\n",
    "]"
   ]
  },
  {
   "cell_type": "markdown",
   "metadata": {},
   "source": [
    "### init"
   ]
  },
  {
   "cell_type": "code",
   "execution_count": 8,
   "metadata": {},
   "outputs": [],
   "source": [
    "model_class = import_model_class(cfg)\n",
    "model = model_class(cfg)"
   ]
  },
  {
   "cell_type": "code",
   "execution_count": 9,
   "metadata": {},
   "outputs": [
    {
     "name": "stderr",
     "output_type": "stream",
     "text": [
      "/home/vmalaviy/.conda/envs/vl/lib/python3.11/site-packages/lightning_fabric/plugins/environments/slurm.py:204: The `srun` command is available on your system but is not used. HINT: If your intention is to run Lightning on SLURM, prepend your python command with `srun` like so: srun python /home/vmalaviy/.conda/envs/vl/lib/python3.11/site-pa ...\n",
      "GPU available: True (cuda), used: True\n",
      "TPU available: False, using: 0 TPU cores\n",
      "HPU available: False, using: 0 HPUs\n"
     ]
    }
   ],
   "source": [
    "# Fast Check\n",
    "# trainer = Trainer(max_epochs=cfg.training.max_epochs, fast_dev_run=True)\n",
    "\n",
    "# Mini Training\n",
    "trainer_config = {\n",
    "    k: v for k, v in cfg.training.trainer.items() if k not in [\"logger\"]\n",
    "}\n",
    "\n",
    "trainer = Trainer(\n",
    "    max_epochs= 2, #cfg.training.trainer.max_epochs,\n",
    "    logger=wandb_logger,\n",
    "    callbacks=callbacks,\n",
    "    enable_model_summary=True,\n",
    "    enable_progress_bar=True,\n",
    "    limit_train_batches=0.3,\n",
    "    limit_val_batches=0.3,\n",
    "    limit_test_batches=0.3,\n",
    "    accumulate_grad_batches=2,\n",
    "    gradient_clip_val=0.5\n",
    ")"
   ]
  },
  {
   "cell_type": "markdown",
   "metadata": {},
   "source": [
    "# Training"
   ]
  },
  {
   "cell_type": "code",
   "execution_count": 10,
   "metadata": {},
   "outputs": [
    {
     "name": "stderr",
     "output_type": "stream",
     "text": [
      "You are using a CUDA device ('NVIDIA A30') that has Tensor Cores. To properly utilize them, you should set `torch.set_float32_matmul_precision('medium' | 'high')` which will trade-off precision for performance. For more details, read https://pytorch.org/docs/stable/generated/torch.set_float32_matmul_precision.html#torch.set_float32_matmul_precision\n",
      "\u001b[34m\u001b[1mwandb\u001b[0m: Using wandb-core as the SDK backend. Please refer to https://wandb.me/wandb-core for more information.\n",
      "\u001b[34m\u001b[1mwandb\u001b[0m: Currently logged in as: \u001b[33mvmalaviy\u001b[0m (\u001b[33mvmalaviy-arizona-state-university\u001b[0m). Use \u001b[1m`wandb login --relogin`\u001b[0m to force relogin\n"
     ]
    },
    {
     "data": {
      "text/html": [
       "Tracking run with wandb version 0.18.5"
      ],
      "text/plain": [
       "<IPython.core.display.HTML object>"
      ]
     },
     "metadata": {},
     "output_type": "display_data"
    },
    {
     "data": {
      "text/html": [
       "Run data is saved locally in <code>outputs/classification/trial/0321_0011/wandb/run-20250321_001127-t0mzkne5</code>"
      ],
      "text/plain": [
       "<IPython.core.display.HTML object>"
      ]
     },
     "metadata": {},
     "output_type": "display_data"
    },
    {
     "data": {
      "text/html": [
       "Syncing run <strong><a href='https://wandb.ai/vmalaviy-arizona-state-university/MarsBench/runs/t0mzkne5' target=\"_blank\">trial</a></strong> to <a href='https://wandb.ai/vmalaviy-arizona-state-university/MarsBench' target=\"_blank\">Weights & Biases</a> (<a href='https://wandb.me/run' target=\"_blank\">docs</a>)<br/>"
      ],
      "text/plain": [
       "<IPython.core.display.HTML object>"
      ]
     },
     "metadata": {},
     "output_type": "display_data"
    },
    {
     "data": {
      "text/html": [
       " View project at <a href='https://wandb.ai/vmalaviy-arizona-state-university/MarsBench' target=\"_blank\">https://wandb.ai/vmalaviy-arizona-state-university/MarsBench</a>"
      ],
      "text/plain": [
       "<IPython.core.display.HTML object>"
      ]
     },
     "metadata": {},
     "output_type": "display_data"
    },
    {
     "data": {
      "text/html": [
       " View run at <a href='https://wandb.ai/vmalaviy-arizona-state-university/MarsBench/runs/t0mzkne5' target=\"_blank\">https://wandb.ai/vmalaviy-arizona-state-university/MarsBench/runs/t0mzkne5</a>"
      ],
      "text/plain": [
       "<IPython.core.display.HTML object>"
      ]
     },
     "metadata": {},
     "output_type": "display_data"
    },
    {
     "name": "stderr",
     "output_type": "stream",
     "text": [
      "LOCAL_RANK: 0 - CUDA_VISIBLE_DEVICES: [0]\n",
      "\n",
      "  | Name      | Type              | Params | Mode \n",
      "--------------------------------------------------------\n",
      "0 | model     | VisionTransformer | 303 M  | train\n",
      "1 | criterion | CrossEntropyLoss  | 0      | train\n",
      "--------------------------------------------------------\n",
      "8.2 K     Trainable params\n",
      "303 M     Non-trainable params\n",
      "303 M     Total params\n",
      "1,213.239 Total estimated model params size (MB)\n",
      "297       Modules in train mode\n",
      "0         Modules in eval mode\n"
     ]
    },
    {
     "data": {
      "application/vnd.jupyter.widget-view+json": {
       "model_id": "c8ba5f1deb864f309a1b6865a0dcaccf",
       "version_major": 2,
       "version_minor": 0
      },
      "text/plain": [
       "Sanity Checking: |          | 0/? [00:00<?, ?it/s]"
      ]
     },
     "metadata": {},
     "output_type": "display_data"
    },
    {
     "name": "stderr",
     "output_type": "stream",
     "text": [
      "/home/vmalaviy/.conda/envs/vl/lib/python3.11/site-packages/torch/utils/data/dataloader.py:557: UserWarning: This DataLoader will create 24 worker processes in total. Our suggested max number of worker in current system is 1, which is smaller than what this DataLoader is going to create. Please be aware that excessive worker creation might get DataLoader running slow or even freeze, lower the worker number to avoid potential slowness/freeze if necessary.\n",
      "  warnings.warn(_create_warning_msg(\n"
     ]
    },
    {
     "data": {
      "application/vnd.jupyter.widget-view+json": {
       "model_id": "407d0b3b9acf4f188dbb9f6d8ef24d92",
       "version_major": 2,
       "version_minor": 0
      },
      "text/plain": [
       "Training: |          | 0/? [00:00<?, ?it/s]"
      ]
     },
     "metadata": {},
     "output_type": "display_data"
    },
    {
     "data": {
      "application/vnd.jupyter.widget-view+json": {
       "model_id": "5825023b2a064902a185a8a4941a0482",
       "version_major": 2,
       "version_minor": 0
      },
      "text/plain": [
       "Validation: |          | 0/? [00:00<?, ?it/s]"
      ]
     },
     "metadata": {},
     "output_type": "display_data"
    },
    {
     "name": "stderr",
     "output_type": "stream",
     "text": [
      "Epoch 0, global step 239: 'val/acc' reached 0.82054 (best 0.82054), saving model to '/home/vmalaviy/MarsBench/outputs/classification/trial/0321_0011/checkpoints/epoch=0.ckpt' as top 1\n"
     ]
    },
    {
     "data": {
      "application/vnd.jupyter.widget-view+json": {
       "model_id": "6254141e65814bbd9e5f7fc8a82aa466",
       "version_major": 2,
       "version_minor": 0
      },
      "text/plain": [
       "Validation: |          | 0/? [00:00<?, ?it/s]"
      ]
     },
     "metadata": {},
     "output_type": "display_data"
    },
    {
     "name": "stderr",
     "output_type": "stream",
     "text": [
      "Epoch 1, global step 478: 'val/acc' reached 0.84241 (best 0.84241), saving model to '/home/vmalaviy/MarsBench/outputs/classification/trial/0321_0011/checkpoints/epoch=1.ckpt' as top 1\n",
      "`Trainer.fit` stopped: `max_epochs=2` reached.\n"
     ]
    }
   ],
   "source": [
    "model.train()\n",
    "trainer.fit(\n",
    "    model, train_dataloaders=train_loader, val_dataloaders=val_loader\n",
    ")"
   ]
  },
  {
   "cell_type": "markdown",
   "metadata": {},
   "source": [
    "# Test"
   ]
  },
  {
   "cell_type": "code",
   "execution_count": 11,
   "metadata": {},
   "outputs": [
    {
     "name": "stderr",
     "output_type": "stream",
     "text": [
      "/home/vmalaviy/.conda/envs/vl/lib/python3.11/site-packages/lightning_fabric/plugins/environments/slurm.py:204: The `srun` command is available on your system but is not used. HINT: If your intention is to run Lightning on SLURM, prepend your python command with `srun` like so: srun python /home/vmalaviy/.conda/envs/vl/lib/python3.11/site-pa ...\n",
      "LOCAL_RANK: 0 - CUDA_VISIBLE_DEVICES: [0]\n"
     ]
    },
    {
     "data": {
      "application/vnd.jupyter.widget-view+json": {
       "model_id": "57310dc7cc8349b2afbf790ea0031a4f",
       "version_major": 2,
       "version_minor": 0
      },
      "text/plain": [
       "Testing: |          | 0/? [00:00<?, ?it/s]"
      ]
     },
     "metadata": {},
     "output_type": "display_data"
    },
    {
     "data": {
      "text/html": [
       "<pre style=\"white-space:pre;overflow-x:auto;line-height:normal;font-family:Menlo,'DejaVu Sans Mono',consolas,'Courier New',monospace\">┏━━━━━━━━━━━━━━━━━━━━━━━━━━━┳━━━━━━━━━━━━━━━━━━━━━━━━━━━┓\n",
       "┃<span style=\"font-weight: bold\">        Test metric        </span>┃<span style=\"font-weight: bold\">       DataLoader 0        </span>┃\n",
       "┡━━━━━━━━━━━━━━━━━━━━━━━━━━━╇━━━━━━━━━━━━━━━━━━━━━━━━━━━┩\n",
       "│<span style=\"color: #008080; text-decoration-color: #008080\">         test/acc          </span>│<span style=\"color: #800080; text-decoration-color: #800080\">    0.8639705777168274     </span>│\n",
       "│<span style=\"color: #008080; text-decoration-color: #008080\">         test/loss         </span>│<span style=\"color: #800080; text-decoration-color: #800080\">    0.5565390586853027     </span>│\n",
       "└───────────────────────────┴───────────────────────────┘\n",
       "</pre>\n"
      ],
      "text/plain": [
       "┏━━━━━━━━━━━━━━━━━━━━━━━━━━━┳━━━━━━━━━━━━━━━━━━━━━━━━━━━┓\n",
       "┃\u001b[1m \u001b[0m\u001b[1m       Test metric       \u001b[0m\u001b[1m \u001b[0m┃\u001b[1m \u001b[0m\u001b[1m      DataLoader 0       \u001b[0m\u001b[1m \u001b[0m┃\n",
       "┡━━━━━━━━━━━━━━━━━━━━━━━━━━━╇━━━━━━━━━━━━━━━━━━━━━━━━━━━┩\n",
       "│\u001b[36m \u001b[0m\u001b[36m        test/acc         \u001b[0m\u001b[36m \u001b[0m│\u001b[35m \u001b[0m\u001b[35m   0.8639705777168274    \u001b[0m\u001b[35m \u001b[0m│\n",
       "│\u001b[36m \u001b[0m\u001b[36m        test/loss        \u001b[0m\u001b[36m \u001b[0m│\u001b[35m \u001b[0m\u001b[35m   0.5565390586853027    \u001b[0m\u001b[35m \u001b[0m│\n",
       "└───────────────────────────┴───────────────────────────┘\n"
      ]
     },
     "metadata": {},
     "output_type": "display_data"
    },
    {
     "data": {
      "text/plain": [
       "[{'test/loss': 0.5565390586853027, 'test/acc': 0.8639705777168274}]"
      ]
     },
     "execution_count": 11,
     "metadata": {},
     "output_type": "execute_result"
    }
   ],
   "source": [
    "model.eval()\n",
    "res = trainer.test(\n",
    "    model, dataloaders=test_loader\n",
    ")\n",
    "res"
   ]
  },
  {
   "cell_type": "code",
   "execution_count": 12,
   "metadata": {},
   "outputs": [
    {
     "name": "stderr",
     "output_type": "stream",
     "text": [
      "LOCAL_RANK: 0 - CUDA_VISIBLE_DEVICES: [0]\n"
     ]
    },
    {
     "data": {
      "application/vnd.jupyter.widget-view+json": {
       "model_id": "90e08b9d3c564a829bddaed7e346dca4",
       "version_major": 2,
       "version_minor": 0
      },
      "text/plain": [
       "Predicting: |          | 0/? [00:00<?, ?it/s]"
      ]
     },
     "metadata": {},
     "output_type": "display_data"
    },
    {
     "data": {
      "text/plain": [
       "57"
      ]
     },
     "execution_count": 12,
     "metadata": {},
     "output_type": "execute_result"
    }
   ],
   "source": [
    "out = trainer.predict(model, test_loader)\n",
    "len(out)"
   ]
  },
  {
   "cell_type": "code",
   "execution_count": null,
   "metadata": {},
   "outputs": [],
   "source": []
  }
 ],
 "metadata": {
  "kernelspec": {
   "display_name": "vl",
   "language": "python",
   "name": "python3"
  },
  "language_info": {
   "codemirror_mode": {
    "name": "ipython",
    "version": 3
   },
   "file_extension": ".py",
   "mimetype": "text/x-python",
   "name": "python",
   "nbconvert_exporter": "python",
   "pygments_lexer": "ipython3",
   "version": "3.11.9"
  }
 },
 "nbformat": 4,
 "nbformat_minor": 2
}
