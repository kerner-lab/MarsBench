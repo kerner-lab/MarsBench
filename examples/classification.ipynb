{
 "cells": [
  {
   "cell_type": "markdown",
   "metadata": {},
   "source": [
    "# Load Config"
   ]
  },
  {
   "cell_type": "code",
   "execution_count": 1,
   "metadata": {},
   "outputs": [],
   "source": [
    "import os\n",
    "from hydra import initialize_config_dir, compose\n",
    "\n",
    "os.chdir('..')\n",
    "from marsbench.utils.config_mapper import load_dynamic_configs\n",
    "config_dir = os.path.abspath('configs')\n",
    "with initialize_config_dir(config_dir=config_dir, version_base=\"1.1\"):\n",
    "    cfg = compose(\n",
    "        config_name=\"config\",\n",
    "        overrides=[\n",
    "            \"task=classification\",\n",
    "            \"model_name=vit\",\n",
    "            \"data_name=hirise_net\",\n",
    "            \"seed=0\",\n",
    "            \"training.early_stopping_patience=50\",\n",
    "            \"training.early_stopping_patience=50\",\n",
    "        ],\n",
    "    )\n",
    "    cfg = load_dynamic_configs(cfg)"
   ]
  },
  {
   "cell_type": "code",
   "execution_count": 2,
   "metadata": {},
   "outputs": [
    {
     "name": "stdout",
     "output_type": "stream",
     "text": [
      "task: classification\n",
      "mode: train\n",
      "data_name: hirise_net\n",
      "model_name: vit\n",
      "dataset_path: /data/hkerner/MarsBench/Datasets\n",
      "output_path: outputs\n",
      "seed: 0\n",
      "data:\n",
      "  split:\n",
      "    train: 0.6\n",
      "    val: 0.2\n",
      "    test: 0.2\n",
      "  valid_image_extensions:\n",
      "  - jpg\n",
      "  - JPG\n",
      "  - jpeg\n",
      "  - JPEG\n",
      "  - png\n",
      "  - PNG\n",
      "  - tif\n",
      "  - TIF\n",
      "  name: HiRISENet\n",
      "  status: test\n",
      "  data_dir: ${oc.decode:${oc.select:dataset_path, .}}/Mars_Image_Cont_Class_Landmark/hirise-map-proj-v3_2/map-proj-v3_2/\n",
      "  annot_csv: ${oc.decode:${oc.select:dataset_path, .}}/Mars_Image_Cont_Class_Landmark/hirise-map-proj-v3_2/annotation.csv\n",
      "  num_classes: 8\n",
      "  image_type: rgb\n",
      "  txt_file: ${oc.decode:${oc.select:dataset_path, .}}/Mars_Image_Cont_Class_Landmark/hirise-map-proj-v3_2/labels-map-proj_v3_2_train_val_test.txt\n",
      "transforms:\n",
      "  image_size:\n",
      "  - 224\n",
      "  - 224\n",
      "  rgb:\n",
      "    mean:\n",
      "    - 0.485\n",
      "    - 0.456\n",
      "    - 0.406\n",
      "    std:\n",
      "    - 0.229\n",
      "    - 0.224\n",
      "    - 0.225\n",
      "  grayscale:\n",
      "    mean:\n",
      "    - 0.5\n",
      "    std:\n",
      "    - 0.5\n",
      "model:\n",
      "  name: VisionTransformer\n",
      "  class_path: marsbench.models.classification.ViT\n",
      "  status: ready\n",
      "  pretrained: true\n",
      "  freeze_layers: true\n",
      "  input_size:\n",
      "  - 3\n",
      "  - 224\n",
      "  - 224\n",
      "training:\n",
      "  batch_size: 32\n",
      "  num_workers: 0\n",
      "  optimizer:\n",
      "    name: Adam\n",
      "    lr: 0.001\n",
      "    weight_decay: 0.0\n",
      "  criterion:\n",
      "    name: cross_entropy\n",
      "  early_stopping_patience: 50\n",
      "  trainer:\n",
      "    max_epochs: 10\n",
      "    accelerator: auto\n",
      "    devices: auto\n",
      "    strategy: auto\n",
      "    sync_batchnorm: true\n",
      "    precision: 16-mixed\n",
      "    enable_checkpointing: true\n",
      "    enable_progress_bar: true\n",
      "    log_every_n_steps: 10\n",
      "    num_nodes: 1\n",
      "    accumulate_grad_batches: 1\n",
      "test:\n",
      "  data:\n",
      "    status:\n",
      "    - ready\n",
      "    - test\n",
      "    subset_size: 100\n",
      "  model:\n",
      "    status:\n",
      "    - ready\n",
      "    - test\n",
      "    with_tuple_output:\n",
      "    - InceptionV3\n",
      "logger:\n",
      "  wandb:\n",
      "    enabled: true\n",
      "    project: marsbench\n",
      "    name: null\n",
      "    entity: null\n",
      "    tags: []\n",
      "    notes: null\n",
      "    save_code: true\n",
      "    mode: online\n",
      "  mlflow:\n",
      "    enabled: false\n",
      "    experiment_name: marsbench\n",
      "    tracking_uri: null\n",
      "    run_name: null\n",
      "    tags: {}\n",
      "    log_model: true\n",
      "    save_dir: mlruns\n",
      "  tensorboard:\n",
      "    enabled: true\n",
      "    save_dir: logs\n",
      "    name: tensorboard_logs\n",
      "    version: null\n",
      "    flush_secs: 30\n",
      "  csv:\n",
      "    enabled: true\n",
      "    save_dir: logs\n",
      "    name: csv_logs\n",
      "    version: null\n",
      "\n"
     ]
    }
   ],
   "source": [
    "from omegaconf import OmegaConf\n",
    "print(OmegaConf.to_yaml(cfg))"
   ]
  },
  {
   "cell_type": "markdown",
   "metadata": {},
   "source": [
    "# Prepare Data"
   ]
  },
  {
   "cell_type": "code",
   "execution_count": 3,
   "metadata": {},
   "outputs": [],
   "source": [
    "import sys\n",
    "sys.path.append('..')\n",
    "from marsbench.data import *\n",
    "from marsbench.utils.transforms import get_transforms"
   ]
  },
  {
   "cell_type": "code",
   "execution_count": 4,
   "metadata": {},
   "outputs": [],
   "source": [
    "# Just for explaination purpose, doesn't need to be run\n",
    "train_transform, val_transform = get_transforms(cfg)\n",
    "train_dataset, val_dataset, test_dataset = get_dataset(cfg, [train_transform, val_transform])\n",
    "# Just for explaination purpose, doesn't need to be run\n",
    "train_transform, val_transform = get_transforms(cfg)\n",
    "train_dataset, val_dataset, test_dataset = get_dataset(cfg, [train_transform, val_transform])"
   ]
  },
  {
   "cell_type": "code",
   "execution_count": 5,
   "metadata": {},
   "outputs": [
    {
     "name": "stderr",
     "output_type": "stream",
     "text": [
      "/home/vmalaviy/.conda/envs/vl/lib/python3.11/site-packages/torch/utils/data/dataloader.py:557: UserWarning: This DataLoader will create 24 worker processes in total. Our suggested max number of worker in current system is 1, which is smaller than what this DataLoader is going to create. Please be aware that excessive worker creation might get DataLoader running slow or even freeze, lower the worker number to avoid potential slowness/freeze if necessary.\n",
      "  warnings.warn(_create_warning_msg(\n"
     ]
    }
   ],
   "source": [
    "from marsbench.data.mars_datamodule import MarsDataModule\n",
    "data_module = MarsDataModule(cfg)\n",
    "data_module.setup()\n",
    "\n",
    "train_loader = data_module.train_dataloader()\n",
    "val_loader = data_module.val_dataloader()\n",
    "test_loader = data_module.test_dataloader()"
   ]
  },
  {
   "cell_type": "markdown",
   "metadata": {},
   "source": [
    "# Load Model"
   ]
  },
  {
   "cell_type": "markdown",
   "metadata": {},
   "source": [
    "### Config"
   ]
  },
  {
   "cell_type": "code",
   "execution_count": 6,
   "metadata": {},
   "outputs": [],
   "source": [
    "import os\n",
    "from datetime import datetime\n",
    "from pytorch_lightning import Trainer\n",
    "from marsbench.models.classification.ViT import ViT\n",
    "from pytorch_lightning.loggers import WandbLogger\n",
    "from pytorch_lightning.callbacks import ModelCheckpoint, EarlyStopping\n",
    "\n",
    "timestamp = datetime.now().strftime(r\"%m%d_%H%M\")\n",
    "job_name = 'trial'\n",
    "\n",
    "output_path = f'outputs/{cfg.task}/{job_name}/{timestamp}'\n",
    "\n",
    "os.makedirs(output_path, exist_ok=True)\n",
    "os.makedirs(f'{output_path}/checkpoints', exist_ok=True)\n",
    "os.makedirs(f'{output_path}/wandb', exist_ok=True)"
   ]
  },
  {
   "cell_type": "markdown",
   "metadata": {},
   "source": [
    "### Callbacks"
   ]
  },
  {
   "cell_type": "code",
   "execution_count": 7,
   "metadata": {},
   "outputs": [],
   "source": [
    "wandb_logger = WandbLogger(\n",
    "    project=\"MarsBench\",\n",
    "    name=job_name,\n",
    "    log_model=True,\n",
    "    save_dir=output_path,\n",
    "    dir=f'{output_path}/wandb'\n",
    ")\n",
    "\n",
    "callbacks = [\n",
    "    ModelCheckpoint(\n",
    "        dirpath=f'{output_path}/checkpoints',\n",
    "        filename=\"{epoch}\",\n",
    "        save_top_k=1,\n",
    "        monitor=\"val/acc\",\n",
    "        mode=\"max\",\n",
    "        verbose=True\n",
    "    ),\n",
    "    EarlyStopping(\n",
    "        monitor=\"val/acc\",\n",
    "        mode=\"max\",\n",
    "        patience=cfg.training.early_stopping_patience,\n",
    "    ),\n",
    "]"
   ]
  },
  {
   "cell_type": "markdown",
   "metadata": {},
   "source": [
    "### init"
   ]
  },
  {
   "cell_type": "code",
   "execution_count": 9,
   "metadata": {},
   "outputs": [
    {
     "name": "stderr",
     "output_type": "stream",
     "text": [
      "/home/vmalaviy/.conda/envs/vl/lib/python3.11/site-packages/lightning_fabric/plugins/environments/slurm.py:204: The `srun` command is available on your system but is not used. HINT: If your intention is to run Lightning on SLURM, prepend your python command with `srun` like so: srun python /home/vmalaviy/.conda/envs/vl/lib/python3.11/site-pa ...\n",
      "GPU available: True (cuda), used: True\n",
      "TPU available: False, using: 0 TPU cores\n",
      "HPU available: False, using: 0 HPUs\n"
     ]
    }
   ],
   "source": [
    "model = ViT(cfg)\n",
    "# Fast Check\n",
    "# trainer = Trainer(max_epochs=cfg.training.max_epochs, fast_dev_run=True)\n",
    "\n",
    "# Mini Training\n",
    "trainer_config = {\n",
    "    k: v for k, v in cfg.training.trainer.items() if k not in [\"logger\"]\n",
    "}\n",
    "\n",
    "trainer = Trainer(\n",
    "    max_epochs=cfg.training.trainer.max_epochs,\n",
    "    logger=wandb_logger,\n",
    "    callbacks=callbacks,\n",
    "    enable_model_summary=True,\n",
    "    enable_progress_bar=True,\n",
    "    limit_train_batches=0.3,\n",
    "    limit_val_batches=0.3,\n",
    "    limit_test_batches=0.3,\n",
    "    accumulate_grad_batches=2,\n",
    "    gradient_clip_val=0.5\n",
    ")"
   ]
  },
  {
   "cell_type": "markdown",
   "metadata": {},
   "source": [
    "# Training"
   ]
  },
  {
   "cell_type": "code",
   "execution_count": 10,
   "metadata": {},
   "outputs": [
    {
     "name": "stderr",
     "output_type": "stream",
     "text": [
      "You are using a CUDA device ('NVIDIA A30') that has Tensor Cores. To properly utilize them, you should set `torch.set_float32_matmul_precision('medium' | 'high')` which will trade-off precision for performance. For more details, read https://pytorch.org/docs/stable/generated/torch.set_float32_matmul_precision.html#torch.set_float32_matmul_precision\n",
      "\u001b[34m\u001b[1mwandb\u001b[0m: Using wandb-core as the SDK backend. Please refer to https://wandb.me/wandb-core for more information.\n",
      "\u001b[34m\u001b[1mwandb\u001b[0m: Currently logged in as: \u001b[33mvmalaviy\u001b[0m (\u001b[33mvmalaviy-arizona-state-university\u001b[0m). Use \u001b[1m`wandb login --relogin`\u001b[0m to force relogin\n"
     ]
    },
    {
     "data": {
      "text/html": [
       "Tracking run with wandb version 0.18.5"
      ],
      "text/plain": [
       "<IPython.core.display.HTML object>"
      ]
     },
     "metadata": {},
     "output_type": "display_data"
    },
    {
     "data": {
      "text/html": [
       "Run data is saved locally in <code>outputs/classification/trial/0319_1928/wandb/run-20250319_192931-ot7t7sra</code>"
      ],
      "text/plain": [
       "<IPython.core.display.HTML object>"
      ]
     },
     "metadata": {},
     "output_type": "display_data"
    },
    {
     "data": {
      "text/html": [
       "Syncing run <strong><a href='https://wandb.ai/vmalaviy-arizona-state-university/MarsBench/runs/ot7t7sra' target=\"_blank\">trial</a></strong> to <a href='https://wandb.ai/vmalaviy-arizona-state-university/MarsBench' target=\"_blank\">Weights & Biases</a> (<a href='https://wandb.me/run' target=\"_blank\">docs</a>)<br/>"
      ],
      "text/plain": [
       "<IPython.core.display.HTML object>"
      ]
     },
     "metadata": {},
     "output_type": "display_data"
    },
    {
     "data": {
      "text/html": [
       " View project at <a href='https://wandb.ai/vmalaviy-arizona-state-university/MarsBench' target=\"_blank\">https://wandb.ai/vmalaviy-arizona-state-university/MarsBench</a>"
      ],
      "text/plain": [
       "<IPython.core.display.HTML object>"
      ]
     },
     "metadata": {},
     "output_type": "display_data"
    },
    {
     "data": {
      "text/html": [
       " View run at <a href='https://wandb.ai/vmalaviy-arizona-state-university/MarsBench/runs/ot7t7sra' target=\"_blank\">https://wandb.ai/vmalaviy-arizona-state-university/MarsBench/runs/ot7t7sra</a>"
      ],
      "text/plain": [
       "<IPython.core.display.HTML object>"
      ]
     },
     "metadata": {},
     "output_type": "display_data"
    },
    {
     "name": "stderr",
     "output_type": "stream",
     "text": [
      "LOCAL_RANK: 0 - CUDA_VISIBLE_DEVICES: [0]\n",
      "\n",
      "  | Name      | Type              | Params | Mode \n",
      "--------------------------------------------------------\n",
      "0 | model     | VisionTransformer | 303 M  | train\n",
      "1 | criterion | CrossEntropyLoss  | 0      | train\n",
      "--------------------------------------------------------\n",
      "8.2 K     Trainable params\n",
      "303 M     Non-trainable params\n",
      "303 M     Total params\n",
      "1,213.239 Total estimated model params size (MB)\n",
      "297       Modules in train mode\n",
      "0         Modules in eval mode\n"
     ]
    },
    {
     "data": {
      "application/vnd.jupyter.widget-view+json": {
       "model_id": "063583b3633942f9bc7ee5e465e706a9",
       "version_major": 2,
       "version_minor": 0
      },
      "text/plain": [
       "Sanity Checking: |          | 0/? [00:00<?, ?it/s]"
      ]
     },
     "metadata": {},
     "output_type": "display_data"
    },
    {
     "name": "stderr",
     "output_type": "stream",
     "text": [
      "/home/vmalaviy/.conda/envs/vl/lib/python3.11/site-packages/torch/utils/data/dataloader.py:557: UserWarning: This DataLoader will create 24 worker processes in total. Our suggested max number of worker in current system is 1, which is smaller than what this DataLoader is going to create. Please be aware that excessive worker creation might get DataLoader running slow or even freeze, lower the worker number to avoid potential slowness/freeze if necessary.\n",
      "  warnings.warn(_create_warning_msg(\n"
     ]
    },
    {
     "data": {
      "application/vnd.jupyter.widget-view+json": {
       "model_id": "9e226a29065a4686823cfb1fde09d65d",
       "version_major": 2,
       "version_minor": 0
      },
      "text/plain": [
       "Training: |          | 0/? [00:00<?, ?it/s]"
      ]
     },
     "metadata": {},
     "output_type": "display_data"
    },
    {
     "data": {
      "application/vnd.jupyter.widget-view+json": {
       "model_id": "bea6a144ca094b4f8fdf77e11e7401ed",
       "version_major": 2,
       "version_minor": 0
      },
      "text/plain": [
       "Validation: |          | 0/? [00:00<?, ?it/s]"
      ]
     },
     "metadata": {},
     "output_type": "display_data"
    },
    {
     "name": "stderr",
     "output_type": "stream",
     "text": [
      "Epoch 0, global step 239: 'val/acc' reached 0.82835 (best 0.82835), saving model to '/home/vmalaviy/MarsBench/outputs/classification/trial/0319_1928/checkpoints/epoch=0.ckpt' as top 1\n"
     ]
    },
    {
     "data": {
      "application/vnd.jupyter.widget-view+json": {
       "model_id": "c685ce6953a942d3bd10f883d617623f",
       "version_major": 2,
       "version_minor": 0
      },
      "text/plain": [
       "Validation: |          | 0/? [00:00<?, ?it/s]"
      ]
     },
     "metadata": {},
     "output_type": "display_data"
    },
    {
     "name": "stderr",
     "output_type": "stream",
     "text": [
      "Epoch 1, global step 478: 'val/acc' reached 0.83795 (best 0.83795), saving model to '/home/vmalaviy/MarsBench/outputs/classification/trial/0319_1928/checkpoints/epoch=1.ckpt' as top 1\n"
     ]
    },
    {
     "data": {
      "application/vnd.jupyter.widget-view+json": {
       "model_id": "3d4e99d6b4384b43aa2facbb27bc869e",
       "version_major": 2,
       "version_minor": 0
      },
      "text/plain": [
       "Validation: |          | 0/? [00:00<?, ?it/s]"
      ]
     },
     "metadata": {},
     "output_type": "display_data"
    },
    {
     "name": "stderr",
     "output_type": "stream",
     "text": [
      "Epoch 2, global step 717: 'val/acc' was not in top 1\n"
     ]
    },
    {
     "data": {
      "application/vnd.jupyter.widget-view+json": {
       "model_id": "d9a1b9a12d0e4f84a49bb0e2e7b8ce3b",
       "version_major": 2,
       "version_minor": 0
      },
      "text/plain": [
       "Validation: |          | 0/? [00:00<?, ?it/s]"
      ]
     },
     "metadata": {},
     "output_type": "display_data"
    },
    {
     "name": "stderr",
     "output_type": "stream",
     "text": [
      "Epoch 3, global step 956: 'val/acc' was not in top 1\n"
     ]
    },
    {
     "data": {
      "application/vnd.jupyter.widget-view+json": {
       "model_id": "29a3a5ad86f6497e9c5238789abbf09a",
       "version_major": 2,
       "version_minor": 0
      },
      "text/plain": [
       "Validation: |          | 0/? [00:00<?, ?it/s]"
      ]
     },
     "metadata": {},
     "output_type": "display_data"
    },
    {
     "name": "stderr",
     "output_type": "stream",
     "text": [
      "Epoch 4, global step 1195: 'val/acc' reached 0.84196 (best 0.84196), saving model to '/home/vmalaviy/MarsBench/outputs/classification/trial/0319_1928/checkpoints/epoch=4.ckpt' as top 1\n"
     ]
    },
    {
     "data": {
      "application/vnd.jupyter.widget-view+json": {
       "model_id": "1eff7f6543354620a8c14724bc98972f",
       "version_major": 2,
       "version_minor": 0
      },
      "text/plain": [
       "Validation: |          | 0/? [00:00<?, ?it/s]"
      ]
     },
     "metadata": {},
     "output_type": "display_data"
    },
    {
     "name": "stderr",
     "output_type": "stream",
     "text": [
      "Epoch 5, global step 1434: 'val/acc' reached 0.84866 (best 0.84866), saving model to '/home/vmalaviy/MarsBench/outputs/classification/trial/0319_1928/checkpoints/epoch=5.ckpt' as top 1\n"
     ]
    },
    {
     "data": {
      "application/vnd.jupyter.widget-view+json": {
       "model_id": "00b98bc64a7a4bf397b00360207f7197",
       "version_major": 2,
       "version_minor": 0
      },
      "text/plain": [
       "Validation: |          | 0/? [00:00<?, ?it/s]"
      ]
     },
     "metadata": {},
     "output_type": "display_data"
    },
    {
     "name": "stderr",
     "output_type": "stream",
     "text": [
      "Epoch 6, global step 1673: 'val/acc' was not in top 1\n"
     ]
    },
    {
     "data": {
      "application/vnd.jupyter.widget-view+json": {
       "model_id": "fc417feaa32e49809a066a84fb5a42a3",
       "version_major": 2,
       "version_minor": 0
      },
      "text/plain": [
       "Validation: |          | 0/? [00:00<?, ?it/s]"
      ]
     },
     "metadata": {},
     "output_type": "display_data"
    },
    {
     "name": "stderr",
     "output_type": "stream",
     "text": [
      "Epoch 7, global step 1912: 'val/acc' was not in top 1\n"
     ]
    },
    {
     "data": {
      "application/vnd.jupyter.widget-view+json": {
       "model_id": "49b1e1297641421cac9198d3fc98f2c8",
       "version_major": 2,
       "version_minor": 0
      },
      "text/plain": [
       "Validation: |          | 0/? [00:00<?, ?it/s]"
      ]
     },
     "metadata": {},
     "output_type": "display_data"
    },
    {
     "name": "stderr",
     "output_type": "stream",
     "text": [
      "Epoch 8, global step 2151: 'val/acc' was not in top 1\n"
     ]
    },
    {
     "data": {
      "application/vnd.jupyter.widget-view+json": {
       "model_id": "9c988d62475e4530bea9848c15bd41bd",
       "version_major": 2,
       "version_minor": 0
      },
      "text/plain": [
       "Validation: |          | 0/? [00:00<?, ?it/s]"
      ]
     },
     "metadata": {},
     "output_type": "display_data"
    },
    {
     "name": "stderr",
     "output_type": "stream",
     "text": [
      "Epoch 9, global step 2390: 'val/acc' was not in top 1\n",
      "`Trainer.fit` stopped: `max_epochs=10` reached.\n"
     ]
    }
   ],
   "source": [
    "model.train()\n",
    "trainer.fit(\n",
    "    model, train_dataloaders=train_loader, val_dataloaders=val_loader\n",
    ")"
   ]
  },
  {
   "cell_type": "markdown",
   "metadata": {},
   "source": [
    "# Test"
   ]
  },
  {
   "cell_type": "code",
   "execution_count": 11,
   "metadata": {},
   "outputs": [
    {
     "name": "stderr",
     "output_type": "stream",
     "text": [
      "/home/vmalaviy/.conda/envs/vl/lib/python3.11/site-packages/lightning_fabric/plugins/environments/slurm.py:204: The `srun` command is available on your system but is not used. HINT: If your intention is to run Lightning on SLURM, prepend your python command with `srun` like so: srun python /home/vmalaviy/.conda/envs/vl/lib/python3.11/site-pa ...\n",
      "LOCAL_RANK: 0 - CUDA_VISIBLE_DEVICES: [0]\n"
     ]
    },
    {
     "data": {
      "application/vnd.jupyter.widget-view+json": {
       "model_id": "18983464e57c444dbaa973818130878a",
       "version_major": 2,
       "version_minor": 0
      },
      "text/plain": [
       "Testing: |          | 0/? [00:00<?, ?it/s]"
      ]
     },
     "metadata": {},
     "output_type": "display_data"
    },
    {
     "data": {
      "text/html": [
       "<pre style=\"white-space:pre;overflow-x:auto;line-height:normal;font-family:Menlo,'DejaVu Sans Mono',consolas,'Courier New',monospace\">┏━━━━━━━━━━━━━━━━━━━━━━━━━━━┳━━━━━━━━━━━━━━━━━━━━━━━━━━━┓\n",
       "┃<span style=\"font-weight: bold\">        Test metric        </span>┃<span style=\"font-weight: bold\">       DataLoader 0        </span>┃\n",
       "┡━━━━━━━━━━━━━━━━━━━━━━━━━━━╇━━━━━━━━━━━━━━━━━━━━━━━━━━━┩\n",
       "│<span style=\"color: #008080; text-decoration-color: #008080\">         test/acc          </span>│<span style=\"color: #800080; text-decoration-color: #800080\">    0.8584558963775635     </span>│\n",
       "│<span style=\"color: #008080; text-decoration-color: #008080\">         test/loss         </span>│<span style=\"color: #800080; text-decoration-color: #800080\">    0.6747078895568848     </span>│\n",
       "└───────────────────────────┴───────────────────────────┘\n",
       "</pre>\n"
      ],
      "text/plain": [
       "┏━━━━━━━━━━━━━━━━━━━━━━━━━━━┳━━━━━━━━━━━━━━━━━━━━━━━━━━━┓\n",
       "┃\u001b[1m \u001b[0m\u001b[1m       Test metric       \u001b[0m\u001b[1m \u001b[0m┃\u001b[1m \u001b[0m\u001b[1m      DataLoader 0       \u001b[0m\u001b[1m \u001b[0m┃\n",
       "┡━━━━━━━━━━━━━━━━━━━━━━━━━━━╇━━━━━━━━━━━━━━━━━━━━━━━━━━━┩\n",
       "│\u001b[36m \u001b[0m\u001b[36m        test/acc         \u001b[0m\u001b[36m \u001b[0m│\u001b[35m \u001b[0m\u001b[35m   0.8584558963775635    \u001b[0m\u001b[35m \u001b[0m│\n",
       "│\u001b[36m \u001b[0m\u001b[36m        test/loss        \u001b[0m\u001b[36m \u001b[0m│\u001b[35m \u001b[0m\u001b[35m   0.6747078895568848    \u001b[0m\u001b[35m \u001b[0m│\n",
       "└───────────────────────────┴───────────────────────────┘\n"
      ]
     },
     "metadata": {},
     "output_type": "display_data"
    },
    {
     "data": {
      "text/plain": [
       "[{'test/loss': 0.6747078895568848, 'test/acc': 0.8584558963775635}]"
      ]
     },
     "execution_count": 11,
     "metadata": {},
     "output_type": "execute_result"
    }
   ],
   "source": [
    "model.eval()\n",
    "trainer.test(\n",
    "    model, dataloaders=test_loader\n",
    ")"
   ]
  },
  {
   "cell_type": "code",
   "execution_count": 13,
   "metadata": {},
   "outputs": [
    {
     "name": "stderr",
     "output_type": "stream",
     "text": [
      "LOCAL_RANK: 0 - CUDA_VISIBLE_DEVICES: [0]\n"
     ]
    },
    {
     "data": {
      "application/vnd.jupyter.widget-view+json": {
       "model_id": "40e68c8c4aca40168b43888081ead6c3",
       "version_major": 2,
       "version_minor": 0
      },
      "text/plain": [
       "Predicting: |          | 0/? [00:00<?, ?it/s]"
      ]
     },
     "metadata": {},
     "output_type": "display_data"
    },
    {
     "data": {
      "text/plain": [
       "57"
      ]
     },
     "execution_count": 13,
     "metadata": {},
     "output_type": "execute_result"
    }
   ],
   "source": [
    "out = trainer.predict(model, test_loader)\n",
    "len(out)"
   ]
  },
  {
   "cell_type": "code",
   "execution_count": null,
   "metadata": {},
   "outputs": [],
   "source": []
  }
 ],
 "metadata": {
  "kernelspec": {
   "display_name": "vl",
   "language": "python",
   "name": "python3"
  },
  "language_info": {
   "codemirror_mode": {
    "name": "ipython",
    "version": 3
   },
   "file_extension": ".py",
   "mimetype": "text/x-python",
   "name": "python",
   "nbconvert_exporter": "python",
   "pygments_lexer": "ipython3",
   "version": "3.11.9"
  }
 },
 "nbformat": 4,
 "nbformat_minor": 2
}
